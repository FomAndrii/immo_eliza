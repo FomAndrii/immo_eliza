{
 "cells": [
  {
   "cell_type": "code",
   "execution_count": 2,
   "metadata": {},
   "outputs": [
    {
     "name": "stdout",
     "output_type": "stream",
     "text": [
      "299000€\n"
     ]
    }
   ],
   "source": [
    "\n",
    "\n",
    "# work with html file and bs4\n",
    "import requests\n",
    "from bs4 import BeautifulSoup\n",
    "from selenium import webdriver\n",
    "from selenium.webdriver.chrome.service import Service\n",
    "from selenium.webdriver.common.by import By\n",
    "\n",
    "# Set up WebDriver\n",
    "service = Service(r\"C:\\Users\\fomic\\WebDrivers\\chromedriver-win64\\chromedriver.exe\")\n",
    "driver = webdriver.Chrome(service=service)\n",
    "# Close the browser\n",
    "driver.quit()\n",
    "\n",
    "def get_data(url):\n",
    "    headers = {\n",
    "        'accept': '*/*',\n",
    "        'accept-language': 'en-US,en;q=0.9,ru;q=0.8,uk;q=0.7,fr;q=0.6,nl;q=0.5',\n",
    "        'cookie': 'receive-cookie-deprecation=1; Gdyn=KlQqTMGGQMGGe6i8KeshmHiUssGMxGKRclbxLbGHlxPwQlAdLAianSy8ufdnssC89WQBbXFHUiSQ1GGf8KcGGliGGGGbEfGp0yGPQMGGaXe1qrPOA5hApEJXGGGeqSKGaQontt3OA7D8KXfNWYAs7ALx8QyvGGMS; Gdynp=uD0cquD4s5Dc9eZyUGMQw._vGMPciDhsXl_u8fP5Apj.07',\n",
    "        'referer': 'https://www.immoweb.be',\n",
    "        'sec-ch-ua': '\"Chromium\";v=\"130\", \"Google Chrome\";v=\"130\", \"Not?A_Brand\";v=\"99\"',\n",
    "        'sec-ch-ua-mobile': '?0',\n",
    "        'sec-ch-ua-platform': '\"Windows\"',\n",
    "        'sec-fetch-dest': 'script',\n",
    "        'sec-fetch-mode': 'no-cors',\n",
    "        'sec-fetch-site': 'cross-site',\n",
    "        'user-agent': 'Mozilla/5.0 (Windows NT 10.0; Win64; x64) AppleWebKit/537.36 (KHTML, like Gecko) Chrome/130.0.0.0 Safari/537.36',\n",
    "        'content-type': 'text/plain;charset=UTF-8',\n",
    "        'origin': 'https://www.immoweb.be',\n",
    "        'priority': 'u=4, i'\n",
    "    }\n",
    "    \n",
    "    # Fetch the page content\n",
    "    response = requests.get(url, headers=headers)\n",
    "\n",
    "    soup = BeautifulSoup(response.text, \"lxml\")\n",
    "    price = soup.find(\"div\", class_=\"container--classified-header\").find(\"p\", class_=\"classified__price\").find(\"span\", class_=\"sr-only\").text\n",
    "    print(price)  # Check if any `div` tags are found\n",
    "    \n",
    "# Call the function with the desired URL\n",
    "get_data(\"https://www.immoweb.be/en/classified/apartment/for-sale/ninove/9400/20318192\")\n"
   ]
  },
  {
   "cell_type": "code",
   "execution_count": null,
   "metadata": {},
   "outputs": [],
   "source": []
  },
  {
   "cell_type": "code",
   "execution_count": null,
   "metadata": {},
   "outputs": [],
   "source": []
  },
  {
   "cell_type": "code",
   "execution_count": null,
   "metadata": {},
   "outputs": [],
   "source": []
  }
 ],
 "metadata": {
  "kernelspec": {
   "display_name": "base",
   "language": "python",
   "name": "python3"
  },
  "language_info": {
   "codemirror_mode": {
    "name": "ipython",
    "version": 3
   },
   "file_extension": ".py",
   "mimetype": "text/x-python",
   "name": "python",
   "nbconvert_exporter": "python",
   "pygments_lexer": "ipython3",
   "version": "3.12.4"
  }
 },
 "nbformat": 4,
 "nbformat_minor": 2
}
